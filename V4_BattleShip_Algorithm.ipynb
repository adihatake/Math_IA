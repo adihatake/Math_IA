{
  "nbformat": 4,
  "nbformat_minor": 0,
  "metadata": {
    "colab": {
      "provenance": []
    },
    "kernelspec": {
      "name": "python3",
      "display_name": "Python 3"
    },
    "language_info": {
      "name": "python"
    }
  },
  "cells": [
    {
      "cell_type": "code",
      "execution_count": null,
      "metadata": {
        "id": "QKI3nTBaqPvz"
      },
      "outputs": [],
      "source": [
        "horizontal_board = [['A1', 'A2', 'A3', 'A4', 'A5', 'A6', 'A7', 'A8', 'A9', 'A10'],\n",
        "                    ['B1', 'B2', 'B3', 'B4', 'B5', 'B6', 'B7', 'B8', 'B9', 'B10'],\n",
        "                    ['C1', 'C2', 'C3', 'C4', 'C5', 'C6', 'C7', 'C8', 'C9', 'C10'],\n",
        "                    ['D1', 'D2', 'D3', 'D4', 'D5', 'D6', 'D7', 'D8', 'D9', 'D10'],\n",
        "                    ['E1', 'E2', 'E3', 'E4', 'E5', 'E6', 'E7', 'E8', 'E9', 'E10'],\n",
        "                    ['F1', 'F2', 'F3', 'F4', 'F5', 'F6', 'F7', 'F8', 'F9', 'F10'],\n",
        "                    ['G1', 'G2', 'G3', 'G4', 'G5', 'G6', 'G7', 'G8', 'G9', 'G10'],\n",
        "                    ['H1', 'H2', 'H3', 'H4', 'H5', 'H6', 'H7', 'H8', 'H9', 'H10'],\n",
        "                    ['I1', 'I2', 'I3', 'I4', 'I5', 'I6', 'I7', 'I8', 'I9', 'I10'],\n",
        "                    ['J1', 'J2', 'J3', 'J4', 'J5', 'J6', 'J7', 'J8', 'J9', 'J10']]\n",
        "\n",
        "vertical_board = [['A1', 'B1', 'C1', 'D1', 'E1', 'F1', 'G1', 'H1', 'I1', 'J1'],\n",
        "                  ['A2', 'B2', 'C2', 'D2', 'E2', 'F2', 'G2', 'H2', 'I2', 'J2'],\n",
        "                  ['A3', 'B3', 'C3', 'D3', 'E3', 'F3', 'G3', 'H3', 'I3', 'J3'],\n",
        "                  ['A4', 'B4', 'C4', 'D4', 'E4', 'F4', 'G4', 'H4', 'I4', 'J4'],\n",
        "                  ['A5', 'B5', 'C5', 'D5', 'E5', 'F5', 'G5', 'H5', 'I5', 'J5'],\n",
        "                  ['A6', 'B6', 'C6', 'D6', 'E6', 'F6', 'G6', 'H6', 'I6', 'J6'],\n",
        "                  ['A7', 'B7', 'C7', 'D7', 'E7', 'F7', 'G7', 'H7', 'I7', 'J7'],\n",
        "                  ['A8', 'B8', 'C8', 'D8', 'E8', 'F8', 'G8', 'H8', 'I8', 'J8'],\n",
        "                  ['A9', 'B9', 'C9', 'D9', 'E9', 'F9', 'G9', 'H9', 'I9', 'J9'],\n",
        "                  ['A10', 'B10', 'C10', 'D10', 'E10', 'F10', 'G10', 'H10', 'I10', 'J10']]\n",
        "\n",
        "heat_map = [['#', '#', '#', '#', '#', '#', '#', '#', '#'],\n",
        "            ['#', '#', '#', '#', '#', '#', '#', '#', '#'],\n",
        "            ['#', '#', '#', '#', '#', '#', '#', '#', '#'],\n",
        "            ['#', '#', '#', '#', '#', '#', '#', '#', '#'],\n",
        "            ['#', '#', '#', '#', '#', '#', '#', '#', '#'],\n",
        "            ['#', '#', '#', '#', '#', '#', '#', '#', '#'],\n",
        "            ['#', '#', '#', '#', '#', '#', '#', '#', '#'],\n",
        "            ['#', '#', '#', '#', '#', '#', '#', '#', '#'],\n",
        "            ['#', '#', '#', '#', '#', '#', '#', '#', '#'],\n",
        "            ['#', '#', '#', '#', '#', '#', '#', '#', '#']]\n",
        "\n",
        "\n",
        "letter_table = {\"A\": 0, \"B\": 1, \"C\": 2, \"D\": 3, \"E\": 4,\n",
        "                \"F\": 5, \"G\": 6, \"H\": 7, \"I\": 8, \"J\": 9}\n",
        "\n",
        "ship_lengths = {\"Aircraft Carrier\": 5, \"Battleship\": 4, \"Cruiser\": 3,\n",
        "                 \"Submarine\": 3, \"Patrol_boat\": 2}\n",
        ""
      ]
    },
    {
      "cell_type": "code",
      "source": [
        "import math\n",
        "\n",
        "class ship_class:\n",
        "  def __init__(self, battleship_name, battleship_length):\n",
        "    self.battleship_name = battleship_name\n",
        "    self.battleship_length = battleship_length\n",
        "    self.ship_arrangements = []\n",
        "    self.total_combinations = 0\n",
        "    self.current_bits = 0\n",
        "    self.entropy_term = 0\n",
        "    self.hit_search_space = []\n",
        "    self.is_sunk = False\n",
        "    self.my_probability = 0\n",
        "\n",
        "  def total_options(self):\n",
        "      #find horizontally\n",
        "      for row in horizontal_board:\n",
        "        window_start = 0\n",
        "        window_end = self.battleship_length\n",
        "        for options in range(11-self.battleship_length):\n",
        "          space = row[window_start:window_end]\n",
        "          window_start += 1\n",
        "          window_end += 1\n",
        "          self.ship_arrangements.append(space)\n",
        "\n",
        "      for row in vertical_board:\n",
        "        window_start = 0\n",
        "        window_end = self.battleship_length\n",
        "        for options in range(11-self.battleship_length):\n",
        "          space = row[window_start:window_end]\n",
        "          window_start += 1\n",
        "          window_end += 1\n",
        "          self.ship_arrangements.append(space)\n",
        "\n",
        "      self.total_combinations += len(self.ship_arrangements)\n",
        "\n",
        "  def is_hit(self, hit_space):\n",
        "    ship_positions = all_ship_arrangements.get(self.battleship_name)\n",
        "    targets = []\n",
        "    for positions in ship_positions:\n",
        "      if hit_space in positions:\n",
        "        targets.append(positions)\n",
        "\n",
        "    del all_ship_arrangements[self.battleship_name]\n",
        "    all_ship_arrangements[self.battleship_name] = targets\n",
        "    print(f\"SEARCH SPACE: {total_ship_arrangements}\")\n",
        "    adjustment_factor = len(targets)\n",
        "\n",
        "    return adjustment_factor\n",
        "\n",
        "\n",
        "  def sunk(self):\n",
        "    self.is_sunk = True\n",
        "    del all_ship_arrangements[self.battleship_name]\n",
        "\n",
        "\n",
        "def search_mode():\n",
        "  weighted_spaces = {}\n",
        "\n",
        "  for space in board:\n",
        "    entropy = 0\n",
        "    total_prob = 0\n",
        "    for battleship_name in all_ship_arrangements:\n",
        "      #print(f\"Battleship {battleship_name}\")\n",
        "\n",
        "      battleship_arrangements = all_ship_arrangements.get(battleship_name)\n",
        "      #Find how many ship arrangements are in the space\n",
        "      num_ships_in_space = 0\n",
        "\n",
        "      for each_arrangement in battleship_arrangements:\n",
        "        if space in each_arrangement:\n",
        "          num_ships_in_space += 1\n",
        "\n",
        "      #Calculate the entropy of each space. E[X] where X is the chance of success and failure\n",
        "      #Because X changes consistently due to the different spaces, a binomial experiment\n",
        "      #is not applicable\n",
        "\n",
        "      if num_ships_in_space > 0:\n",
        "        print(f\"SPACE ON BOARD {space}\")\n",
        "        hit_prob = num_ships_in_space / total_ship_arrangements\n",
        "        #print(f\"{num_ships_in_space} / {total_ship_arrangements}\")\n",
        "        hit_info = math.log(1/hit_prob, 2)\n",
        "        entropy += hit_info * hit_prob\n",
        "\n",
        "        total_prob += hit_prob\n",
        "\n",
        "        print(f'NUM SHIPS: {num_ships_in_space}')\n",
        "\n",
        "        miss_prob = 1 - total_prob\n",
        "        hit_info = math.log(1/miss_prob, 2)\n",
        "        entropy += hit_info * miss_prob\n",
        "\n",
        "        #total_prob += hit_prob + miss_prob\n",
        "\n",
        "        weighted_spaces[space] = entropy\n",
        "\n",
        "  Best_space = max(weighted_spaces, key=weighted_spaces.get)\n",
        "  suggested_move = {Best_space:weighted_spaces[Best_space]}\n",
        "  heat_map_copy = heat_map.copy()\n",
        "\n",
        "  for space, score in weighted_spaces.items():\n",
        "    score = float(\"{:.3f}\".format(score))\n",
        "    heat_map_copy = [score if location==space else location for location in heat_map_copy]\n",
        "\n",
        "  for pos in heat_map_copy:\n",
        "    if type(pos) != float:\n",
        "      index_num = heat_map_copy.index(pos)\n",
        "      heat_map_copy[index_num] = \"###\"\n",
        "\n",
        "  start = 0\n",
        "  end = 10\n",
        "  for i in range(0, 100, 10):\n",
        "    print(heat_map_copy[start+i:end+i])\n",
        "\n",
        "  return suggested_move, weighted_spaces\n",
        "\n",
        "\n"
      ],
      "metadata": {
        "id": "gQB5cvNnsTbn"
      },
      "execution_count": null,
      "outputs": []
    },
    {
      "cell_type": "code",
      "source": [
        "import math\n",
        "import random\n",
        "\n",
        "board =  ['A1', 'A2', 'A3', 'A4', 'A5', 'A6', 'A7', 'A8', 'A9', 'A10',\n",
        "          'B1', 'B2', 'B3', 'B4', 'B5', 'B6', 'B7', 'B8', 'B9', 'B10',\n",
        "          'C1', 'C2', 'C3', 'C4', 'C5', 'C6', 'C7', 'C8', 'C9', 'C10',\n",
        "          'D1', 'D2', 'D3', 'D4', 'D5', 'D6', 'D7', 'D8', 'D9', 'D10',\n",
        "          'E1', 'E2', 'E3', 'E4', 'E5', 'E6', 'E7', 'E8', 'E9', 'E10',\n",
        "          'F1', 'F2', 'F3', 'F4', 'F5', 'F6', 'F7', 'F8', 'F9', 'F10',\n",
        "          'G1', 'G2', 'G3', 'G4', 'G5', 'G6', 'G7', 'G8', 'G9', 'G10',\n",
        "          'H1', 'H2', 'H3', 'H4', 'H5', 'H6', 'H7', 'H8', 'H9', 'H10',\n",
        "          'I1', 'I2', 'I3', 'I4', 'I5', 'I6', 'I7', 'I8', 'I9', 'I10',\n",
        "          'J1', 'J2', 'J3', 'J4', 'J5', 'J6', 'J7', 'J8', 'J9', 'J10']\n",
        "\n",
        "heat_map = ['A1', 'A2', 'A3', 'A4', 'A5', 'A6', 'A7', 'A8', 'A9', 'A10',\n",
        "            'B1', 'B2', 'B3', 'B4', 'B5', 'B6', 'B7', 'B8', 'B9', 'B10',\n",
        "            'C1', 'C2', 'C3', 'C4', 'C5', 'C6', 'C7', 'C8', 'C9', 'C10',\n",
        "            'D1', 'D2', 'D3', 'D4', 'D5', 'D6', 'D7', 'D8', 'D9', 'D10',\n",
        "            'E1', 'E2', 'E3', 'E4', 'E5', 'E6', 'E7', 'E8', 'E9', 'E10',\n",
        "            'F1', 'F2', 'F3', 'F4', 'F5', 'F6', 'F7', 'F8', 'F9', 'F10',\n",
        "            'G1', 'G2', 'G3', 'G4', 'G5', 'G6', 'G7', 'G8', 'G9', 'G10',\n",
        "            'H1', 'H2', 'H3', 'H4', 'H5', 'H6', 'H7', 'H8', 'H9', 'H10',\n",
        "            'I1', 'I2', 'I3', 'I4', 'I5', 'I6', 'I7', 'I8', 'I9', 'I10',\n",
        "            'J1', 'J2', 'J3', 'J4', 'J5', 'J6', 'J7', 'J8', 'J9', 'J10']\n",
        "\n",
        "all_ship_arrangements = {}\n",
        "\n",
        "\n",
        "Aircraft_carrier = ship_class(\"Aircraft_carrier\", 5)\n",
        "Aircraft_carrier.total_options()\n",
        "all_ship_arrangements[\"Aircraft_carrier\"] = Aircraft_carrier.ship_arrangements\n",
        "\n",
        "# Battleship = ship_class(\"Battleship\", 4)\n",
        "# Battleship.total_options()\n",
        "# all_ship_arrangements[\"Battleship\"] = Battleship.ship_arrangements\n",
        "\n",
        "# Cruiser = ship_class(\"Cruiser\", 3)\n",
        "# Cruiser.total_options()\n",
        "# all_ship_arrangements[\"Cruiser\"] = Cruiser.ship_arrangements\n",
        "\n",
        "# Submarine = ship_class(\"Submarine\", 3)\n",
        "# Submarine.total_options()\n",
        "# all_ship_arrangements[\"Submarine\"] = Submarine.ship_arrangements\n",
        "\n",
        "\n",
        "# Patrol_boat = ship_class(\"Patrol_boat\", 2)\n",
        "# Patrol_boat.total_options()\n",
        "# all_ship_arrangements[\"Patrol_boat\"] = Patrol_boat.ship_arrangements\n",
        "\n",
        "\n",
        "total_ship_arrangements = 120\n",
        "total_bits = 0\n",
        "\n",
        "while True:\n",
        "    Best_move, weighted_spaces = search_mode()\n",
        "\n",
        "    while True:\n",
        "      print(f\"BEST MOVE: {Best_move}\")\n",
        "      played_move = input(\"What move do you want play? \\n\")\n",
        "      if played_move not in board:\n",
        "        print(\"Move was already played! \\n\")\n",
        "        continue\n",
        "      else:\n",
        "        total_bits += weighted_spaces[played_move]\n",
        "        break\n",
        "\n",
        "    print(f\"TOTAL BITS: {total_bits}\")\n",
        "    hit = input(\"Was it a hit? (y/n) \\n\")\n",
        "\n",
        "    if hit == \"y\":\n",
        "      print(\"IT'S A HIT!\")\n",
        "      adjustment = Aircraft_carrier.is_hit(played_move)\n",
        "      board.remove(played_move)\n",
        "      total_ship_arrangements = adjustment\n",
        "\n",
        "\n",
        "    else:\n",
        "      board.remove(played_move)\n",
        "      total_ship_arrangements -= 1\n"
      ],
      "metadata": {
        "id": "K_5M3WUkVQ2p"
      },
      "execution_count": null,
      "outputs": []
    },
    {
      "cell_type": "code",
      "source": [
        "print(all_ship_arrangements.get(\"Aircraft_carrier\"))\n",
        "print(len(all_ship_arrangements.get(\"Aircraft_carrier\")))\n",
        "print(total_ship_arrangements)"
      ],
      "metadata": {
        "colab": {
          "base_uri": "https://localhost:8080/"
        },
        "id": "m1rCsyXpFFYi",
        "outputId": "c17807ba-2431-4117-f736-198dfb7e59a6"
      },
      "execution_count": null,
      "outputs": [
        {
          "output_type": "stream",
          "name": "stdout",
          "text": [
            "[['C2', 'D2', 'E2', 'F2', 'G2']]\n",
            "1\n",
            "114\n"
          ]
        }
      ]
    },
    {
      "cell_type": "code",
      "source": [
        "print(all_ship_arrangements)\n",
        "print(len(all_ship_arrangements.get(\"Aircraft_carrier\")))"
      ],
      "metadata": {
        "colab": {
          "base_uri": "https://localhost:8080/"
        },
        "id": "zVMiwioQIRuB",
        "outputId": "9d763980-f6d6-4fd9-ce31-a1428533b043"
      },
      "execution_count": null,
      "outputs": [
        {
          "output_type": "stream",
          "name": "stdout",
          "text": [
            "{'Aircraft_carrier': [['A2', 'A3', 'A4', 'A5', 'A6'], ['A4', 'A5', 'A6', 'A7', 'A8'], ['A6', 'A7', 'A8', 'A9', 'A10'], ['B2', 'B3', 'B4', 'B5', 'B6'], ['B4', 'B5', 'B6', 'B7', 'B8'], ['B6', 'B7', 'B8', 'B9', 'B10'], ['C2', 'C3', 'C4', 'C5', 'C6'], ['C4', 'C5', 'C6', 'C7', 'C8'], ['C6', 'C7', 'C8', 'C9', 'C10'], ['D2', 'D3', 'D4', 'D5', 'D6'], ['D4', 'D5', 'D6', 'D7', 'D8'], ['D6', 'D7', 'D8', 'D9', 'D10'], ['E2', 'E3', 'E4', 'E5', 'E6'], ['E4', 'E5', 'E6', 'E7', 'E8'], ['E6', 'E7', 'E8', 'E9', 'E10'], ['F1', 'F2', 'F3', 'F4', 'F5'], ['F2', 'F3', 'F4', 'F5', 'F6'], ['F4', 'F5', 'F6', 'F7', 'F8'], ['F6', 'F7', 'F8', 'F9', 'F10'], ['G2', 'G3', 'G4', 'G5', 'G6'], ['G4', 'G5', 'G6', 'G7', 'G8'], ['G6', 'G7', 'G8', 'G9', 'G10'], ['H2', 'H3', 'H4', 'H5', 'H6'], ['H4', 'H5', 'H6', 'H7', 'H8'], ['H6', 'H7', 'H8', 'H9', 'H10'], ['I2', 'I3', 'I4', 'I5', 'I6'], ['I4', 'I5', 'I6', 'I7', 'I8'], ['I6', 'I7', 'I8', 'I9', 'I10'], ['J2', 'J3', 'J4', 'J5', 'J6'], ['J4', 'J5', 'J6', 'J7', 'J8'], ['J6', 'J7', 'J8', 'J9', 'J10'], ['B1', 'C1', 'D1', 'E1', 'F1'], ['D1', 'E1', 'F1', 'G1', 'H1'], ['F1', 'G1', 'H1', 'I1', 'J1'], ['B2', 'C2', 'D2', 'E2', 'F2'], ['C2', 'D2', 'E2', 'F2', 'G2'], ['D2', 'E2', 'F2', 'G2', 'H2'], ['E2', 'F2', 'G2', 'H2', 'I2'], ['F2', 'G2', 'H2', 'I2', 'J2'], ['B3', 'C3', 'D3', 'E3', 'F3'], ['D3', 'E3', 'F3', 'G3', 'H3'], ['F3', 'G3', 'H3', 'I3', 'J3'], ['B4', 'C4', 'D4', 'E4', 'F4'], ['D4', 'E4', 'F4', 'G4', 'H4'], ['F4', 'G4', 'H4', 'I4', 'J4'], ['B5', 'C5', 'D5', 'E5', 'F5'], ['D5', 'E5', 'F5', 'G5', 'H5'], ['F5', 'G5', 'H5', 'I5', 'J5'], ['B6', 'C6', 'D6', 'E6', 'F6'], ['D6', 'E6', 'F6', 'G6', 'H6'], ['F6', 'G6', 'H6', 'I6', 'J6'], ['B7', 'C7', 'D7', 'E7', 'F7'], ['D7', 'E7', 'F7', 'G7', 'H7'], ['F7', 'G7', 'H7', 'I7', 'J7'], ['B8', 'C8', 'D8', 'E8', 'F8'], ['D8', 'E8', 'F8', 'G8', 'H8'], ['F8', 'G8', 'H8', 'I8', 'J8'], ['B9', 'C9', 'D9', 'E9', 'F9'], ['D9', 'E9', 'F9', 'G9', 'H9'], ['F9', 'G9', 'H9', 'I9', 'J9'], ['B10', 'C10', 'D10', 'E10', 'F10'], ['D10', 'E10', 'F10', 'G10', 'H10'], ['F10', 'G10', 'H10', 'I10', 'J10']]}\n",
            "63\n"
          ]
        }
      ]
    },
    {
      "cell_type": "code",
      "source": [
        "hit = \"F2\"\n",
        "\n",
        "for pos in all_ship_arrangements.get(\"Aircraft_carrier\"):\n",
        "  if hit in pos:\n",
        "    print(pos)"
      ],
      "metadata": {
        "colab": {
          "base_uri": "https://localhost:8080/"
        },
        "id": "_qWiuAVwGiNx",
        "outputId": "8c79fd31-9535-4529-8b57-26b4495cb10d"
      },
      "execution_count": null,
      "outputs": [
        {
          "output_type": "stream",
          "name": "stdout",
          "text": [
            "['F1', 'F2', 'F3', 'F4', 'F5']\n",
            "['F2', 'F3', 'F4', 'F5', 'F6']\n",
            "['B2', 'C2', 'D2', 'E2', 'F2']\n",
            "['C2', 'D2', 'E2', 'F2', 'G2']\n",
            "['D2', 'E2', 'F2', 'G2', 'H2']\n",
            "['E2', 'F2', 'G2', 'H2', 'I2']\n",
            "['F2', 'G2', 'H2', 'I2', 'J2']\n"
          ]
        }
      ]
    },
    {
      "cell_type": "markdown",
      "source": [
        "# To do:\n",
        "\n",
        "1. Remove uncessary blocks\n",
        "2. Narrow search space given hit\n"
      ],
      "metadata": {
        "id": "AeCtEnqVXM3h"
      }
    },
    {
      "cell_type": "code",
      "source": [
        "#@title Create Board\n",
        "board = ['A1', 'B1', 'C1', 'D1', '5', 'A6', 'A7', 'A8', 'A9', 'A10']\n",
        "letters = [\"A\", \"B\", \"C\", \"D\", \"E\", \"F\", \"G\", \"H\", \"I\", \"J\"]\n",
        "board_length = 10\n",
        "\n",
        "colomn = []\n",
        "\n",
        "for number in range(board_length):\n",
        "  colomn = []\n",
        "  number += 1\n",
        "  for letter in letters:\n",
        "      space = letter + str(number)\n",
        "      colomn.append(space)\n",
        "\n",
        "  print(colomn)\n",
        "\n",
        ""
      ],
      "metadata": {
        "cellView": "form",
        "id": "d6-4-i4IEg9x"
      },
      "execution_count": null,
      "outputs": []
    }
  ]
}